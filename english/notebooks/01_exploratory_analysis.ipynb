{
 "cells": [
  {
   "cell_type": "markdown",
   "metadata": {},
   "source": [
    "# Análisis Exploratorio de Datos: Tiempos de Inactividad en Manufactura\n",
    "\n",
    "Este notebook realiza un análisis exploratorio inicial de los datos de tiempo de inactividad en la línea de producción."
   ]
  },
  {
   "cell_type": "code",
   "execution_count": null,
   "metadata": {},
   "source": [
    "import pandas as pd\n",
    "import numpy as np\n",
    "import matplotlib.pyplot as plt\n",
    "import seaborn as sns\n",
    "from datetime import datetime\n",
    "import sys\n",
    "sys.path.append('..')\n",
    "\n",
    "from utils.db_connection import create_connection, read_table\n",
    "from utils.visualization import plot_downtime_distribution, plot_operator_performance, create_downtime_heatmap\n",
    "from utils.statistics import calculate_basic_stats, analyze_operator_performance\n",
    "\n",
    "%matplotlib inline\n",
    "plt.style.use('seaborn')"
   ]
  },
  {
   "cell_type": "markdown",
   "metadata": {},
   "source": [
    "## 1. Carga de Datos\n",
    "\n",
    "Conectamos a la base de datos y cargamos las tablas necesarias."
   ]
  },
  {
   "cell_type": "code",
   "execution_count": null,
   "metadata": {},
   "source": [
    "# Crear conexión a la base de datos\n",
    "conn = create_connection()\n",
    "\n",
    "# Cargar datos de producción\n",
    "production_data = read_table(conn, 'manufacturing_line_productivity')\n",
    "downtime_data = read_table(conn, 'normalizeddowntime')\n",
    "factors_data = read_table(conn, 'downtime_factor')\n",
    "\n",
    "# Mostrar las primeras filas de cada tabla\n",
    "print(\"\\nDatos de Producción:\")\n",
    "print(production_data.head())\n",
    "print(\"\\nDatos de Tiempo de Inactividad:\")\n",
    "print(downtime_data.head())\n",
    "print(\"\\nFactores de Tiempo de Inactividad:\")\n",
    "print(factors_data.head())"
   ]
  },
  {
   "cell_type": "markdown",
   "metadata": {},
   "source": [
    "## 2. Análisis de Distribución de Tiempos de Inactividad"
   ]
  },
  {
   "cell_type": "code",
   "execution_count": null,
   "metadata": {},
   "source": [
    "# Visualizar distribución de tiempos de inactividad\n",
    "plot_downtime_distribution(downtime_data)\n",
    "\n",
    "# Estadísticas básicas\n",
    "stats = calculate_basic_stats(downtime_data['downtime_minutes'])\n",
    "print(\"\\nEstadísticas de Tiempo de Inactividad (minutos):\")\n",
    "print(f\"Media: {stats['mean']:.2f}\")\n",
    "print(f\"Mediana: {stats['median']:.2f}\")\n",
    "print(f\"Desviación Estándar: {stats['std']:.2f}\")\n",
    "print(f\"Mínimo: {stats['min']:.2f}\")\n",
    "print(f\"Máximo: {stats['max']:.2f}\")"
   ]
  },
  {
   "cell_type": "markdown",
   "metadata": {},
   "source": [
    "## 3. Análisis por Operador"
   ]
  },
  {
   "cell_type": "code",
   "execution_count": null,
   "metadata": {},
   "source": [
    "# Visualizar rendimiento por operador\n",
    "plot_operator_performance(production_data, downtime_data)\n",
    "\n",
    "# Análisis detallado de rendimiento por operador\n",
    "operator_stats = analyze_operator_performance(production_data, downtime_data)\n",
    "print(\"\\nEstadísticas por Operador:\")\n",
    "print(operator_stats)"
   ]
  },
  {
   "cell_type": "markdown",
   "metadata": {},
   "source": [
    "## 4. Análisis de Factores de Tiempo de Inactividad"
   ]
  },
  {
   "cell_type": "code",
   "execution_count": null,
   "metadata": {},
   "source": [
    "# Unir datos de tiempo de inactividad con factores\n",
    "downtime_with_factors = pd.merge(downtime_data, factors_data, on='factor')\n",
    "\n",
    "# Crear gráfico de Pareto\n",
    "factor_counts = downtime_with_factors.groupby('description')['downtime_minutes'].sum().sort_values(ascending=False)\n",
    "total_downtime = factor_counts.sum()\n",
    "cumulative_percentage = factor_counts.cumsum() / total_downtime * 100\n",
    "\n",
    "fig, ax1 = plt.subplots(figsize=(12, 6))\n",
    "ax2 = ax1.twinx()\n",
    "\n",
    "ax1.bar(range(len(factor_counts)), factor_counts, color='b', alpha=0.6)\n",
    "ax2.plot(range(len(factor_counts)), cumulative_percentage, color='r', marker='o')\n",
    "\n",
    "ax1.set_xlabel('Factores')\n",
    "ax1.set_ylabel('Tiempo Total de Inactividad (min)')\n",
    "ax2.set_ylabel('Porcentaje Acumulado')\n",
    "\n",
    "plt.title('Análisis de Pareto: Factores de Tiempo de Inactividad')\n",
    "plt.xticks(range(len(factor_counts)), factor_counts.index, rotation=45, ha='right')\n",
    "plt.tight_layout()\n",
    "plt.savefig('../visualizations/downtime_factors_pareto.png')\n",
    "plt.show()"
   ]
  },
  {
   "cell_type": "markdown",
   "metadata": {},
   "source": [
    "## 5. Análisis de Correlaciones"
   ]
  },
  {
   "cell_type": "code",
   "execution_count": null,
   "metadata": {},
   "source": [
    "# Crear mapa de calor de correlaciones\n",
    "create_downtime_heatmap(production_data, downtime_data)\n",
    "\n",
    "# Análisis de correlación entre tamaño del producto y tiempo de inactividad\n",
    "plt.figure(figsize=(10, 6))\n",
    "sns.scatterplot(data=production_data.merge(downtime_data.groupby('batch')['downtime_minutes'].sum().reset_index()),\n",
    "                x='size', y='downtime_minutes')\n",
    "plt.title('Correlación entre Tamaño del Producto y Tiempo de Inactividad')\n",
    "plt.xticks(rotation=45)\n",
    "plt.tight_layout()\n",
    "plt.savefig('../visualizations/size_correlation.png')\n",
    "plt.show()"
   ]
  },
  {
   "cell_type": "markdown",
   "metadata": {},
   "source": [
    "## 6. Conclusiones Preliminares\n",
    "\n",
    "1. Distribución de Tiempos de Inactividad:\n",
    "   - [Completar con observaciones sobre la distribución]\n",
    "\n",
    "2. Rendimiento por Operador:\n",
    "   - [Completar con hallazgos sobre operadores]\n",
    "\n",
    "3. Factores Principales:\n",
    "   - [Completar con análisis de factores más significativos]\n",
    "\n",
    "4. Correlaciones Identificadas:\n",
    "   - [Completar con patrones y correlaciones encontradas]\n",
    "\n",
    "## Próximos Pasos\n",
    "\n",
    "1. Realizar análisis más detallado de los factores principales\n",
    "2. Investigar patrones temporales en los datos\n",
    "3. Desarrollar modelos predictivos\n",
    "4. Generar recomendaciones específicas para mejora"
   ]
  }
 ],
 "metadata": {
  "kernelspec": {
   "display_name": "Python 3",
   "language": "python",
   "name": "python3"
  },
  "language_info": {
   "codemirror_mode": {
    "name": "ipython",
    "version": 3
   },
   "file_extension": ".py",
   "mimetype": "text/x-python",
   "name": "python",
   "nbconvert_exporter": "python",
   "pygments_lexer": "ipython3",
   "version": "3.8.0"
  }
 },
 "nbformat": 4,
 "nbformat_minor": 4
}
