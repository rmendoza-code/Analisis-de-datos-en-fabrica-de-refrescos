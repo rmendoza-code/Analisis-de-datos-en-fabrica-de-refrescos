{
 "cells": [
  {
   "cell_type": "markdown",
   "metadata": {},
   "source": [
    "# Análisis Temporal de Tiempos de Inactividad\n",
    "\n",
    "Este notebook se enfoca en el análisis de patrones temporales y tendencias en los datos de tiempo de inactividad."
   ]
  },
  {
   "cell_type": "code",
   "execution_count": null,
   "metadata": {},
   "source": [
    "import pandas as pd\n",
    "import numpy as np\n",
    "import matplotlib.pyplot as plt\n",
    "import seaborn as sns\n",
    "from datetime import datetime\n",
    "from statsmodels.tsa.seasonal import seasonal_decompose\n",
    "from statsmodels.tsa.stattools import adfuller\n",
    "import sys\n",
    "sys.path.append('..')\n",
    "\n",
    "from utils.db_connection import create_connection, read_table\n",
    "from utils.visualization import plot_downtime_distribution\n",
    "from utils.statistics import calculate_basic_stats\n",
    "\n",
    "%matplotlib inline\n",
    "plt.style.use('seaborn')"
   ]
  },
  {
   "cell_type": "markdown",
   "metadata": {},
   "source": [
    "## 1. Carga y Preparación de Datos"
   ]
  },
  {
   "cell_type": "code",
   "execution_count": null,
   "metadata": {},
   "source": [
    "# Cargar datos\n",
    "conn = create_connection()\n",
    "production_data = read_table(conn, 'manufacturing_line_productivity')\n",
    "downtime_data = read_table(conn, 'normalizeddowntime')\n",
    "\n",
    "# Preparar datos temporales\n",
    "production_data['date'] = pd.to_datetime(production_data['date'])\n",
    "daily_downtime = downtime_data.groupby('batch').agg({\n",
    "    'downtime_minutes': 'sum'\n",
    "}).reset_index()\n",
    "\n",
    "# Unir con fechas de producción\n",
    "temporal_data = pd.merge(daily_downtime, production_data[['batch', 'date']], on='batch')\n",
    "temporal_data = temporal_data.sort_values('date')"
   ]
  },
  {
   "cell_type": "markdown",
   "metadata": {},
   "source": [
    "## 2. Análisis de Tendencias Diarias"
   ]
  },
  {
   "cell_type": "code",
   "execution_count": null,
   "metadata": {},
   "source": [
    "# Agregación diaria\n",
    "daily_avg = temporal_data.groupby('date')['downtime_minutes'].agg(['mean', 'std']).reset_index()\n",
    "\n",
    "# Gráfico de tendencia diaria\n",
    "plt.figure(figsize=(15, 6))\n",
    "plt.plot(daily_avg['date'], daily_avg['mean'], label='Promedio Diario')\n",
    "plt.fill_between(daily_avg['date'],\n",
    "                 daily_avg['mean'] - daily_avg['std'],\n",
    "                 daily_avg['mean'] + daily_avg['std'],\n",
    "                 alpha=0.2)\n",
    "plt.title('Tendencia Diaria de Tiempo de Inactividad')\n",
    "plt.xlabel('Fecha')\n",
    "plt.ylabel('Minutos de Inactividad')\n",
    "plt.xticks(rotation=45)\n",
    "plt.legend()\n",
    "plt.tight_layout()\n",
    "plt.savefig('../visualizations/daily_trend.png')\n",
    "plt.show()"
   ]
  },
  {
   "cell_type": "markdown",
   "metadata": {},
   "source": [
    "## 3. Análisis de Patrones Semanales"
   ]
  },
  {
   "cell_type": "code",
   "execution_count": null,
   "metadata": {},
   "source": [
    "# Agregar día de la semana\n",
    "temporal_data['weekday'] = temporal_data['date'].dt.day_name()\n",
    "\n",
    "# Análisis por día de la semana\n",
    "weekday_stats = temporal_data.groupby('weekday')['downtime_minutes'].agg(['mean', 'std']).reset_index()\n",
    "weekday_order = ['Monday', 'Tuesday', 'Wednesday', 'Thursday', 'Friday', 'Saturday', 'Sunday']\n",
    "weekday_stats['weekday'] = pd.Categorical(weekday_stats['weekday'], categories=weekday_order, ordered=True)\n",
    "weekday_stats = weekday_stats.sort_values('weekday')\n",
    "\n",
    "plt.figure(figsize=(12, 6))\n",
    "plt.bar(weekday_stats['weekday'], weekday_stats['mean'], yerr=weekday_stats['std'], capsize=5)\n",
    "plt.title('Tiempo de Inactividad Promedio por Día de la Semana')\n",
    "plt.xlabel('Día de la Semana')\n",
    "plt.ylabel('Minutos de Inactividad')\n",
    "plt.xticks(rotation=45)\n",
    "plt.tight_layout()\n",
    "plt.savefig('../visualizations/weekday_pattern.png')\n",
    "plt.show()"
   ]
  },
  {
   "cell_type": "markdown",
   "metadata": {},
   "source": [
    "## 4. Análisis de Estacionalidad"
   ]
  },
  {
   "cell_type": "code",
   "execution_count": null,
   "metadata": {},
   "source": [
    "# Preparar datos para descomposición\n",
    "daily_series = temporal_data.groupby('date')['downtime_minutes'].mean()\n",
    "daily_series = daily_series.asfreq('D')\n",
    "\n",
    "# Descomposición de series temporales\n",
    "decomposition = seasonal_decompose(daily_series, period=7, model='additive')\n",
    "\n",
    "# Visualizar componentes\n",
    "fig, (ax1, ax2, ax3, ax4) = plt.subplots(4, 1, figsize=(15, 12))\n",
    "\n",
    "decomposition.observed.plot(ax=ax1)\n",
    "ax1.set_title('Observado')\n",
    "\n",
    "decomposition.trend.plot(ax=ax2)\n",
    "ax2.set_title('Tendencia')\n",
    "\n",
    "decomposition.seasonal.plot(ax=ax3)\n",
    "ax3.set_title('Estacional')\n",
    "\n",
    "decomposition.resid.plot(ax=ax4)\n",
    "ax4.set_title('Residual')\n",
    "\n",
    "plt.tight_layout()\n",
    "plt.savefig('../visualizations/seasonal_decomposition.png')\n",
    "plt.show()"
   ]
  },
  {
   "cell_type": "markdown",
   "metadata": {},
   "source": [
    "## 5. Análisis de Autocorrelación"
   ]
  },
  {
   "cell_type": "code",
   "execution_count": null,
   "metadata": {},
   "source": [
    "from statsmodels.graphics.tsaplots import plot_acf, plot_pacf\n",
    "\n",
    "# Calcular y visualizar autocorrelación\n",
    "fig, (ax1, ax2) = plt.subplots(2, 1, figsize=(12, 8))\n",
    "\n",
    "plot_acf(daily_series.dropna(), ax=ax1, lags=30)\n",
    "ax1.set_title('Función de Autocorrelación (ACF)')\n",
    "\n",
    "plot_pacf(daily_series.dropna(), ax=ax2, lags=30)\n",
    "ax2.set_title('Función de Autocorrelación Parcial (PACF)')\n",
    "\n",
    "plt.tight_layout()\n",
    "plt.savefig('../visualizations/autocorrelation.png')\n",
    "plt.show()"
   ]
  },
  {
   "cell_type": "markdown",
   "metadata": {},
   "source": [
    "## 6. Análisis de Cambios Significativos"
   ]
  },
  {
   "cell_type": "code",
   "execution_count": null,
   "metadata": {},
   "source": [
    "# Calcular cambios significativos\n",
    "daily_avg['rolling_mean'] = daily_avg['mean'].rolling(window=7).mean()\n",
    "daily_avg['rolling_std'] = daily_avg['mean'].rolling(window=7).std()\n",
    "\n",
    "# Detectar valores atípicos (más de 2 desviaciones estándar)\n",
    "threshold = 2\n",
    "daily_avg['is_outlier'] = abs(daily_avg['mean'] - daily_avg['rolling_mean']) > (threshold * daily_avg['rolling_std'])\n",
    "\n",
    "# Visualizar cambios significativos\n",
    "plt.figure(figsize=(15, 6))\n",
    "plt.plot(daily_avg['date'], daily_avg['mean'], label='Valor Diario', alpha=0.6)\n",
    "plt.plot(daily_avg['date'], daily_avg['rolling_mean'], label='Media Móvil (7 días)', linewidth=2)\n",
    "\n",
    "# Marcar valores atípicos\n",
    "outliers = daily_avg[daily_avg['is_outlier']]\n",
    "plt.scatter(outliers['date'], outliers['mean'], color='red', label='Valores Atípicos', zorder=5)\n",
    "\n",
    "plt.title('Detección de Cambios Significativos en Tiempo de Inactividad')\n",
    "plt.xlabel('Fecha')\n",
    "plt.ylabel('Minutos de Inactividad')\n",
    "plt.legend()\n",
    "plt.xticks(rotation=45)\n",
    "plt.tight_layout()\n",
    "plt.savefig('../visualizations/significant_changes.png')\n",
    "plt.show()"
   ]
  },
  {
   "cell_type": "markdown",
   "metadata": {},
   "source": [
    "## 7. Conclusiones del Análisis Temporal\n",
    "\n",
    "1. Tendencias Generales:\n",
    "   - [Completar con observaciones sobre tendencias identificadas]\n",
    "\n",
    "2. Patrones Semanales:\n",
    "   - [Completar con patrones semanales identificados]\n",
    "\n",
    "3. Estacionalidad:\n",
    "   - [Completar con hallazgos sobre estacionalidad]\n",
    "\n",
    "4. Cambios Significativos:\n",
    "   - [Completar con análisis de cambios importantes]\n",
    "\n",
    "## Recomendaciones\n",
    "\n",
    "1. [Completar con recomendaciones basadas en patrones temporales]\n",
    "2. [Completar con sugerencias para mejora]\n",
    "3. [Completar con estrategias de prevención]\n",
    "\n",
    "## Próximos Pasos\n",
    "\n",
    "1. Desarrollar modelos predictivos basados en patrones temporales\n",
    "2. Investigar causas de valores atípicos identificados\n",
    "3. Implementar sistema de alertas tempranas\n",
    "4. Evaluar efectividad de medidas correctivas"
   ]
  }
 ],
 "metadata": {
  "kernelspec": {
   "display_name": "Python 3",
   "language": "python",
   "name": "python3"
  },
  "language_info": {
   "codemirror_mode": {
    "name": "ipython",
    "version": 3
   },
   "file_extension": ".py",
   "mimetype": "text/x-python",
   "name": "python",
   "nbconvert_exporter": "python",
   "pygments_lexer": "ipython3",
   "version": "3.8.0"
  }
 },
 "nbformat": 4,
 "nbformat_minor": 4
}
